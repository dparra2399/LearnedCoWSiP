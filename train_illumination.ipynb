{
 "cells": [
  {
   "cell_type": "code",
   "execution_count": null,
   "id": "initial_id",
   "metadata": {
    "collapsed": true
   },
   "outputs": [],
   "source": [
    "from models.model_LIT_CODING import LITIlluminationModel\n",
    "from pytorch_lightning.callbacks import ModelCheckpoint\n",
    "from pytorch_lightning.loggers import CSVLogger\n",
    "from dataset.dataset_utils import SimulatedLabelModule\n",
    "import torch\n",
    "import pytorch_lightning as pl\n",
    "\n",
    "import yaml"
   ]
  },
  {
   "metadata": {},
   "cell_type": "code",
   "outputs": [],
   "execution_count": null,
   "source": [
    "\n",
    "photon_count = 10 ** 3\n",
    "sbr = 1.0\n",
    "\n",
    "n_tbins = 1024\n",
    "k = 4\n",
    "sigma = 10\n",
    "\n",
    "yaml_file = 'config/best_hyperparameters_4.yaml'\n"
   ],
   "id": "330f37ec5971a8ab"
  },
  {
   "metadata": {},
   "cell_type": "code",
   "outputs": [],
   "execution_count": null,
   "source": [
    "checkpoint_callback = ModelCheckpoint(\n",
    "    dirpath=\"checkpoints\",  # Directory to save the model\n",
    "    filename=\"coded_model\",  # Base name for the checkpoint files\n",
    "    save_top_k=1,  # Save only the best model\n",
    "    monitor=\"val_loss\",  # Metric to monitor\n",
    "    mode=\"min\",  # Minimize the monitored metric\n",
    ")\n"
   ],
   "id": "2b23d023c394cde0"
  },
  {
   "metadata": {},
   "cell_type": "code",
   "outputs": [],
   "execution_count": null,
   "source": [
    "try:\n",
    "    with open(yaml_file, 'r') as file:\n",
    "        config = yaml.safe_load(file)\n",
    "\n",
    "    init_lr = config['init_lr']\n",
    "    lr_decay_gamma = config['lr_decay_gamma']\n",
    "    tv_reg = config['tv_reg']\n",
    "    epochs = config['epochs']\n",
    "    batch_size = config['batch_size']\n",
    "    beta = config['beta']\n",
    "    num_samples = config['num_samples']\n",
    "except (FileNotFoundError, TypeError) as e:\n",
    "    print(e)\n",
    "    exit(0)\n"
   ],
   "id": "88adb9d6da993fea"
  },
  {
   "metadata": {},
   "cell_type": "code",
   "outputs": [],
   "execution_count": null,
   "source": [
    "label_module = SimulatedLabelModule(n_tbins, batch_size=batch_size, num_samples=num_samples)\n",
    "label_module.setup()\n"
   ],
   "id": "8e940e60dab1078d"
  },
  {
   "metadata": {},
   "cell_type": "code",
   "outputs": [],
   "execution_count": null,
   "source": [
    "if torch.cuda.is_available():\n",
    "    device = torch.device(\"cuda:0\")\n",
    "    torch.set_float32_matmul_precision('medium')\n",
    "\n",
    "else:\n",
    "    device = torch.device(\"cpu\")\n",
    "\n",
    "pl.seed_everything(42)\n"
   ],
   "id": "72eb271840908f53"
  },
  {
   "metadata": {},
   "cell_type": "code",
   "outputs": [],
   "execution_count": null,
   "source": [
    "logger = CSVLogger(\"tb_logs\", name=\"my_model\")\n",
    "\n",
    "trainer = pl.Trainer(logger=logger, max_epochs=epochs,\n",
    "                      log_every_n_steps=250, val_check_interval=0.25,\n",
    "                      callbacks=[checkpoint_callback])\n"
   ],
   "id": "1d239d5717a38bd9"
  },
  {
   "metadata": {},
   "cell_type": "code",
   "outputs": [],
   "execution_count": null,
   "source": [
    "lit_model = LITIlluminationModel(k=k, n_tbins=n_tbins, init_lr=init_lr, lr_decay_gamma=lr_decay_gamma,\n",
    "                           beta=beta, tv_reg=tv_reg, photon_count=photon_count, sbr=sbr)\n",
    "\n",
    "torch.autograd.set_detect_anomaly(True)"
   ],
   "id": "15ba041395a75976"
  },
  {
   "metadata": {},
   "cell_type": "code",
   "outputs": [],
   "execution_count": null,
   "source": "trainer.fit(lit_model, datamodule=label_module)",
   "id": "bdaa3c596f18fde6"
  }
 ],
 "metadata": {
  "kernelspec": {
   "display_name": "Python 3",
   "language": "python",
   "name": "python3"
  },
  "language_info": {
   "codemirror_mode": {
    "name": "ipython",
    "version": 2
   },
   "file_extension": ".py",
   "mimetype": "text/x-python",
   "name": "python",
   "nbconvert_exporter": "python",
   "pygments_lexer": "ipython2",
   "version": "2.7.6"
  }
 },
 "nbformat": 4,
 "nbformat_minor": 5
}
