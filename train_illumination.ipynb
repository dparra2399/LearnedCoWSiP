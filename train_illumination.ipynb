{
 "cells": [
  {
   "cell_type": "code",
   "execution_count": 2,
   "id": "initial_id",
   "metadata": {
    "collapsed": true
   },
   "outputs": [],
   "source": [
    "from models.model_LIT_CODING import LITIlluminationModel\n",
    "from pytorch_lightning.callbacks import ModelCheckpoint\n",
    "from pytorch_lightning.loggers import CSVLogger\n",
    "from dataset.dataset_utils import SimulatedLabelModule\n",
    "import torch\n",
    "import pytorch_lightning as pl\n",
    "\n",
    "import yaml"
   ]
  },
  {
   "cell_type": "code",
   "execution_count": 3,
   "id": "330f37ec5971a8ab",
   "metadata": {},
   "outputs": [],
   "source": [
    "\n",
    "photon_count = 10 ** 3\n",
    "sbr = 1.0\n",
    "\n",
    "n_tbins = 1024\n",
    "k = 4\n",
    "sigma = 10\n",
    "\n",
    "yaml_file = 'config/best_hyperparameters_tmp.yaml'\n"
   ]
  },
  {
   "cell_type": "code",
   "execution_count": 4,
   "id": "2b23d023c394cde0",
   "metadata": {},
   "outputs": [],
   "source": [
    "checkpoint_callback = ModelCheckpoint(\n",
    "    dirpath=\"checkpoints\",  # Directory to save the model\n",
    "    filename=\"coded_model\",  # Base name for the checkpoint files\n",
    "    save_top_k=1,  # Save only the best model\n",
    "    monitor=\"val_loss\",  # Metric to monitor\n",
    "    mode=\"min\",  # Minimize the monitored metric\n",
    ")\n"
   ]
  },
  {
   "cell_type": "code",
   "execution_count": 5,
   "id": "88adb9d6da993fea",
   "metadata": {},
   "outputs": [],
   "source": [
    "try:\n",
    "    with open(yaml_file, 'r') as file:\n",
    "        config = yaml.safe_load(file)\n",
    "\n",
    "    init_lr = config['init_lr']\n",
    "    lr_decay_gamma = config['lr_decay_gamma']\n",
    "    tv_reg = config['tv_reg']\n",
    "    tv_reg_illumination = config['tv_reg_illumination']\n",
    "    epochs = config['epochs']\n",
    "    batch_size = config['batch_size']\n",
    "    beta = config['beta']\n",
    "    num_samples = config['num_samples']\n",
    "except (FileNotFoundError, TypeError) as e:\n",
    "    print(e)\n",
    "    exit(0)\n"
   ]
  },
  {
   "cell_type": "code",
   "execution_count": 6,
   "id": "833a3597",
   "metadata": {},
   "outputs": [
    {
     "name": "stdout",
     "output_type": "stream",
     "text": [
      "0.09723338742824626\n"
     ]
    }
   ],
   "source": [
    "print(tv_reg)"
   ]
  },
  {
   "cell_type": "code",
   "execution_count": 7,
   "id": "8e940e60dab1078d",
   "metadata": {},
   "outputs": [
    {
     "name": "stdout",
     "output_type": "stream",
     "text": [
      "80000\n"
     ]
    }
   ],
   "source": [
    "label_module = SimulatedLabelModule(n_tbins, batch_size=batch_size, num_samples=num_samples)\n",
    "label_module.setup()\n",
    "\n",
    "print(len(label_module.train_dataset))\n"
   ]
  },
  {
   "cell_type": "code",
   "execution_count": 8,
   "id": "72eb271840908f53",
   "metadata": {},
   "outputs": [
    {
     "name": "stderr",
     "output_type": "stream",
     "text": [
      "Seed set to 42\n"
     ]
    },
    {
     "data": {
      "text/plain": [
       "42"
      ]
     },
     "execution_count": 8,
     "metadata": {},
     "output_type": "execute_result"
    }
   ],
   "source": [
    "if torch.cuda.is_available():\n",
    "    device = torch.device(\"cuda:0\")\n",
    "    torch.set_float32_matmul_precision('medium')\n",
    "\n",
    "else:\n",
    "    device = torch.device(\"cpu\")\n",
    "\n",
    "pl.seed_everything(42)\n"
   ]
  },
  {
   "cell_type": "code",
   "execution_count": 9,
   "id": "1d239d5717a38bd9",
   "metadata": {},
   "outputs": [
    {
     "name": "stderr",
     "output_type": "stream",
     "text": [
      "Trainer will use only 1 of 2 GPUs because it is running inside an interactive / notebook environment. You may try to set `Trainer(devices=2)` but please note that multi-GPU inside interactive / notebook environments is considered experimental and unstable. Your mileage may vary.\n"
     ]
    },
    {
     "name": "stderr",
     "output_type": "stream",
     "text": [
      "GPU available: True (cuda), used: True\n",
      "TPU available: False, using: 0 TPU cores\n",
      "HPU available: False, using: 0 HPUs\n"
     ]
    }
   ],
   "source": [
    "logger = CSVLogger(\"tb_logs\", name=\"my_model\")\n",
    "\n",
    "trainer = pl.Trainer(logger=logger, max_epochs=epochs,\n",
    "                      log_every_n_steps=250, val_check_interval=0.5,\n",
    "                      callbacks=[checkpoint_callback])\n"
   ]
  },
  {
   "cell_type": "code",
   "execution_count": 10,
   "id": "15ba041395a75976",
   "metadata": {},
   "outputs": [
    {
     "data": {
      "text/plain": [
       "<torch.autograd.anomaly_mode.set_detect_anomaly at 0x7fbbe4ed39e0>"
      ]
     },
     "execution_count": 10,
     "metadata": {},
     "output_type": "execute_result"
    }
   ],
   "source": [
    "lit_model = LITIlluminationModel(k=k, n_tbins=n_tbins, init_lr=init_lr, lr_decay_gamma=lr_decay_gamma,\n",
    "                           beta=beta, tv_reg=tv_reg, tv_reg_illum=tv_reg_illumination, photon_count=photon_count, sbr=sbr)\n",
    "\n",
    "torch.autograd.set_detect_anomaly(True)"
   ]
  },
  {
   "cell_type": "code",
   "execution_count": null,
   "id": "bdaa3c596f18fde6",
   "metadata": {},
   "outputs": [
    {
     "name": "stderr",
     "output_type": "stream",
     "text": [
      "/ua/deparra/miniconda3/envs/learnedcowsip/lib/python3.12/site-packages/pytorch_lightning/callbacks/model_checkpoint.py:654: Checkpoint directory /ua/deparra/LearnedCoWSiP/checkpoints exists and is not empty.\n",
      "LOCAL_RANK: 0 - CUDA_VISIBLE_DEVICES: [0,1]\n",
      "\n",
      "  | Name         | Type              | Params | Mode \n",
      "-----------------------------------------------------------\n",
      "0 | backbone_net | IlluminationModel | 5.1 K  | train\n",
      "-----------------------------------------------------------\n",
      "5.1 K     Trainable params\n",
      "0         Non-trainable params\n",
      "5.1 K     Total params\n",
      "0.020     Total estimated model params size (MB)\n",
      "3         Modules in train mode\n",
      "0         Modules in eval mode\n"
     ]
    },
    {
     "name": "stdout",
     "output_type": "stream",
     "text": [
      "Epoch 4:  57%|█████▋    | 1692/2963 [01:05<00:48, 25.98it/s, v_num=20]     "
     ]
    }
   ],
   "source": [
    "trainer.fit(lit_model, datamodule=label_module)"
   ]
  },
  {
   "cell_type": "code",
   "execution_count": null,
   "id": "d667e0dc",
   "metadata": {},
   "outputs": [],
   "source": []
  }
 ],
 "metadata": {
  "kernelspec": {
   "display_name": "learnedcowsip",
   "language": "python",
   "name": "python3"
  },
  "language_info": {
   "codemirror_mode": {
    "name": "ipython",
    "version": 3
   },
   "file_extension": ".py",
   "mimetype": "text/x-python",
   "name": "python",
   "nbconvert_exporter": "python",
   "pygments_lexer": "ipython3",
   "version": "3.12.8"
  }
 },
 "nbformat": 4,
 "nbformat_minor": 5
}
