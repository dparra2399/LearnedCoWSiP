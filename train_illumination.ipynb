{
 "cells": [
  {
   "cell_type": "code",
   "execution_count": 1,
   "id": "initial_id",
   "metadata": {
    "collapsed": true
   },
   "outputs": [],
   "source": [
    "from models.model_LIT_CODING import LITIlluminationModel\n",
    "from pytorch_lightning.callbacks import ModelCheckpoint\n",
    "from pytorch_lightning.loggers import CSVLogger\n",
    "from dataset.dataset_utils import SimulatedLabelModule\n",
    "import torch\n",
    "import pytorch_lightning as pl\n",
    "from pytorch_lightning.loggers import TensorBoardLogger\n",
    "import yaml"
   ]
  },
  {
   "cell_type": "code",
   "execution_count": 2,
   "id": "330f37ec5971a8ab",
   "metadata": {},
   "outputs": [],
   "source": [
    "\n",
    "photon_count = 200\n",
    "sbr = 1.0\n",
    "\n",
    "n_tbins = 200\n",
    "k = 4\n",
    "sigma = 10\n",
    "\n",
    "yaml_file = 'config/best_hyperparameters_illumination_v1.yaml'\n",
    "log_dir = 'experiments'"
   ]
  },
  {
   "cell_type": "code",
   "execution_count": 3,
   "id": "2b23d023c394cde0",
   "metadata": {},
   "outputs": [],
   "source": [
    "\n",
    "logger = TensorBoardLogger(log_dir, name=\"illum_models\")\n",
    "\n",
    "checkpoint_callback = ModelCheckpoint(\n",
    "    dirpath=f\"{log_dir}/{logger.name}/version_{logger.version}/checkpoints\",  \n",
    "    filename = 'coded_model'# Directory to save the model\n",
    "    save_top_k=1,  # Save only the best model\n",
    "    monitor=\"val_loss\",  # Metric to monitor\n",
    "    mode=\"min\",  # Minimize the monitored metric\n",
    ")\n"
   ]
  },
  {
   "cell_type": "code",
   "execution_count": 4,
   "id": "88adb9d6da993fea",
   "metadata": {},
   "outputs": [],
   "source": [
    "try:\n",
    "    with open(yaml_file, 'r') as file:\n",
    "        config = yaml.safe_load(file)\n",
    "\n",
    "    init_lr = config['init_lr']\n",
    "    lr_decay_gamma = config['lr_decay_gamma']\n",
    "    tv_reg = config['tv_reg']\n",
    "    epochs = config['epochs']\n",
    "    batch_size = config['batch_size']\n",
    "    beta = config['beta']\n",
    "    num_samples = config['num_samples']\n",
    "except (FileNotFoundError, TypeError) as e:\n",
    "    print(e)\n",
    "    exit(0)\n"
   ]
  },
  {
   "cell_type": "code",
   "execution_count": 5,
   "id": "833a3597",
   "metadata": {},
   "outputs": [
    {
     "name": "stdout",
     "output_type": "stream",
     "text": [
      "0.0011869485344305597\n"
     ]
    }
   ],
   "source": [
    "print(tv_reg)"
   ]
  },
  {
   "cell_type": "code",
   "execution_count": null,
   "id": "8e940e60dab1078d",
   "metadata": {},
   "outputs": [
    {
     "name": "stdout",
     "output_type": "stream",
     "text": [
      "24141\n"
     ]
    }
   ],
   "source": [
    "label_module = SimulatedLabelModule(n_tbins, batch_size=batch_size, num_samples=num_samples)\n",
    "label_module.setup()\n",
    "\n",
    "print(len(label_module.train_dataset))\n"
   ]
  },
  {
   "cell_type": "code",
   "execution_count": 7,
   "id": "72eb271840908f53",
   "metadata": {},
   "outputs": [
    {
     "name": "stderr",
     "output_type": "stream",
     "text": [
      "Seed set to 42\n"
     ]
    },
    {
     "data": {
      "text/plain": [
       "42"
      ]
     },
     "execution_count": 7,
     "metadata": {},
     "output_type": "execute_result"
    }
   ],
   "source": [
    "if torch.cuda.is_available():\n",
    "    device = torch.device(\"cuda:0\")\n",
    "    torch.set_float32_matmul_precision('medium')\n",
    "\n",
    "else:\n",
    "    device = torch.device(\"cpu\")\n",
    "\n",
    "pl.seed_everything(42)\n"
   ]
  },
  {
   "cell_type": "code",
   "execution_count": 8,
   "id": "1d239d5717a38bd9",
   "metadata": {},
   "outputs": [
    {
     "name": "stderr",
     "output_type": "stream",
     "text": [
      "Trainer will use only 1 of 2 GPUs because it is running inside an interactive / notebook environment. You may try to set `Trainer(devices=2)` but please note that multi-GPU inside interactive / notebook environments is considered experimental and unstable. Your mileage may vary.\n",
      "GPU available: True (cuda), used: True\n",
      "TPU available: False, using: 0 TPU cores\n",
      "HPU available: False, using: 0 HPUs\n"
     ]
    }
   ],
   "source": [
    "trainer = pl.Trainer(logger=logger, max_epochs=epochs,\n",
    "                      log_every_n_steps=250, val_check_interval=0.5,\n",
    "                      callbacks=[checkpoint_callback])\n"
   ]
  },
  {
   "cell_type": "code",
   "execution_count": 9,
   "id": "15ba041395a75976",
   "metadata": {},
   "outputs": [
    {
     "data": {
      "text/plain": [
       "<torch.autograd.anomaly_mode.set_detect_anomaly at 0x7f8396d165a0>"
      ]
     },
     "execution_count": 9,
     "metadata": {},
     "output_type": "execute_result"
    }
   ],
   "source": [
    "lit_model = LITIlluminationModel(k=k, n_tbins=n_tbins, init_lr=init_lr, lr_decay_gamma=lr_decay_gamma,\n",
    "                           beta=beta, tv_reg=tv_reg, photon_count=photon_count, sbr=sbr, sigma=sigma)\n",
    "\n",
    "torch.autograd.set_detect_anomaly(True)"
   ]
  },
  {
   "cell_type": "code",
   "execution_count": null,
   "id": "bdaa3c596f18fde6",
   "metadata": {},
   "outputs": [
    {
     "name": "stderr",
     "output_type": "stream",
     "text": [
      "2025-01-20 13:59:50.277894: E external/local_xla/xla/stream_executor/cuda/cuda_fft.cc:485] Unable to register cuFFT factory: Attempting to register factory for plugin cuFFT when one has already been registered\n",
      "2025-01-20 13:59:50.317625: E external/local_xla/xla/stream_executor/cuda/cuda_dnn.cc:8454] Unable to register cuDNN factory: Attempting to register factory for plugin cuDNN when one has already been registered\n",
      "2025-01-20 13:59:50.329865: E external/local_xla/xla/stream_executor/cuda/cuda_blas.cc:1452] Unable to register cuBLAS factory: Attempting to register factory for plugin cuBLAS when one has already been registered\n",
      "2025-01-20 13:59:50.358892: I tensorflow/core/platform/cpu_feature_guard.cc:210] This TensorFlow binary is optimized to use available CPU instructions in performance-critical operations.\n",
      "To enable the following instructions: SSE4.1 SSE4.2, in other operations, rebuild TensorFlow with the appropriate compiler flags.\n",
      "LOCAL_RANK: 0 - CUDA_VISIBLE_DEVICES: [0,1]\n",
      "\n",
      "  | Name         | Type              | Params | Mode \n",
      "-----------------------------------------------------------\n",
      "0 | backbone_net | IlluminationModel | 1.2 K  | train\n",
      "-----------------------------------------------------------\n",
      "1.0 K     Trainable params\n",
      "200       Non-trainable params\n",
      "1.2 K     Total params\n",
      "0.005     Total estimated model params size (MB)\n",
      "4         Modules in train mode\n",
      "0         Modules in eval mode\n"
     ]
    },
    {
     "name": "stdout",
     "output_type": "stream",
     "text": [
      "Epoch 46:   5%|▍         | 92/1857 [00:02<00:50, 34.76it/s, v_num=2]       "
     ]
    }
   ],
   "source": [
    "trainer.fit(lit_model, datamodule=label_module)"
   ]
  },
  {
   "cell_type": "code",
   "execution_count": null,
   "id": "d667e0dc",
   "metadata": {},
   "outputs": [],
   "source": []
  }
 ],
 "metadata": {
  "kernelspec": {
   "display_name": "learnedcowsip",
   "language": "python",
   "name": "python3"
  },
  "language_info": {
   "codemirror_mode": {
    "name": "ipython",
    "version": 3
   },
   "file_extension": ".py",
   "mimetype": "text/x-python",
   "name": "python",
   "nbconvert_exporter": "python",
   "pygments_lexer": "ipython3",
   "version": "3.12.8"
  }
 },
 "nbformat": 4,
 "nbformat_minor": 5
}
