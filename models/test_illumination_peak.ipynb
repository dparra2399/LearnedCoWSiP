{
 "cells": [
  {
   "cell_type": "code",
   "execution_count": null,
   "metadata": {},
   "outputs": [],
   "source": [
    "import numpy as np\n",
    "\n",
    "from models.CM1DLayers import IlluminationLayer, ZNCCLayer\n",
    "from dataset.dataset import SampleLabels\n",
    "from utils.torch_utils import *\n",
    "from felipe_utils.research_utils.signalproc_ops import gaussian_pulse\n",
    "\n",
    "import matplotlib.pyplot as plt\n",
    "import matplotlib\n",
    "import yaml"
   ]
  }
 ],
 "metadata": {
  "language_info": {
   "name": "python"
  }
 },
 "nbformat": 4,
 "nbformat_minor": 2
}
