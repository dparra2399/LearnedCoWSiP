{
 "cells": [
  {
   "metadata": {},
   "cell_type": "code",
   "outputs": [],
   "execution_count": null,
   "source": [
    "import numpy as np\n",
    "\n",
    "from models.CM1DLayers import IlluminationLayer, ZNCCLayer\n",
    "from dataset.dataset import SampleLabels\n",
    "from utils.torch_utils import *\n",
    "\n",
    "import matplotlib.pyplot as plt\n",
    "import matplotlib"
   ],
   "id": "5dffe3bbd0e03032"
  },
  {
   "metadata": {},
   "cell_type": "code",
   "outputs": [],
   "execution_count": null,
   "source": [
    "\n",
    "rep_freq = 5 * 1e6\n",
    "rep_tau = 1. / rep_freq\n",
    "sigma = 10\n",
    "# counts = torch.linspace(10 ** 2, 10 ** 6, 20)\n",
    "# sbr = torch.linspace(0.05, 10.0, 20)\n",
    "\n",
    "photon_count = 10**3\n",
    "sbr = 1.0\n",
    "n_tbins = 1024\n",
    "k = 4"
   ],
   "id": "4b7135bfa41650e8"
  },
  {
   "metadata": {},
   "cell_type": "code",
   "outputs": [],
   "execution_count": null,
   "source": "inits = ['TruncatedFourier', 'checkpoints/coded_model.ckpt']",
   "id": "33ca0e43f71dd3ef"
  },
  {
   "metadata": {},
   "cell_type": "code",
   "outputs": [],
   "execution_count": null,
   "source": [
    "sample_data = SampleLabels(n_tbins, num_samples=1024)\n",
    "num_samples = len(sample_data)\n",
    "labels = sample_data.labels\n",
    "\n",
    "gt_depths = bin2depth(labels, num_bins=n_tbins, tau=rep_tau)\n"
   ],
   "id": "24a2d339b509e9f1"
  },
  {
   "metadata": {},
   "cell_type": "code",
   "outputs": [],
   "execution_count": null,
   "source": "fig, axs = plt.subplots(len(inits), 3)",
   "id": "bafd78175a7775c5"
  },
  {
   "metadata": {},
   "cell_type": "code",
   "outputs": [],
   "execution_count": null,
   "source": [
    "counter = 0\n",
    "names = []\n",
    "for init in inits:\n",
    "    if init.endswith('.ckpt'): get_from_model = True\n",
    "    else: get_from_model = False\n",
    "\n",
    "    model = IlluminationLayer(k=k, n_tbins=n_tbins, init=init, get_from_model=get_from_model)\n",
    "\n",
    "    zncc_layer = ZNCCLayer()\n",
    "\n",
    "    c_vals = model(labels, photon_count, sbr)\n",
    "\n",
    "    pred_depths = zncc_layer(c_vals, model.cmat1D.weight.data.detach().clone())\n",
    "\n",
    "    pred_depths = bin2depth(pred_depths, num_bins=n_tbins, tau=rep_tau)\n",
    "    #\n",
    "    loss = torch.mean(torch.abs(pred_depths.squeeze() - gt_depths.squeeze()))\n",
    "    #loss = criterion_RMSE(pred_depths, gt_depths)\n",
    "\n",
    "    print(f'MAE {init.split('/')[-1].split('.')[0]}: {loss * 1000:.3f} mm ')\n",
    "    names.append(init.split('/')[-1].split('.')[0])\n",
    "    cmat = model.cmat1D.weight\n",
    "    cmat = np.transpose(cmat.detach().numpy().squeeze())\n",
    "\n",
    "    illum = model.illumination.numpy().squeeze()\n",
    "    axs[counter][0].plot(illum)\n",
    "    axs[counter][0].set_ylabel(init.split('/')[-1].split('.')[0])\n",
    "    axs[counter][0].set_title('Illumination')\n",
    "    axs[counter][1].plot(cmat)\n",
    "    #axs[counter][1].set_title(init.split('/')[-1].split('.')[0])\n",
    "\n",
    "    axs[0][2].bar(counter, loss, label=f'{loss * 1000:.2f}mm')\n",
    "    axs[0][2].set_title('MAE (Lower Better)')\n",
    "    axs[0][2].set_ylabel('MAE (mm)')\n",
    "\n",
    "    if counter != 0:\n",
    "        axs[counter][2].axis('off')\n",
    "\n",
    "    counter += 1\n",
    "\n",
    "axs[0][2].set_xticks(np.arange(0, len(inits)))\n",
    "axs[0][2].set_xticklabels(names)\n",
    "axs[0][2].legend()\n",
    "\n",
    "\n",
    "plt.show(block=True)\n"
   ],
   "id": "6ce511822ea78484"
  }
 ],
 "metadata": {
  "kernelspec": {
   "display_name": "Python 3",
   "language": "python",
   "name": "python3"
  },
  "language_info": {
   "codemirror_mode": {
    "name": "ipython",
    "version": 2
   },
   "file_extension": ".py",
   "mimetype": "text/x-python",
   "name": "python",
   "nbconvert_exporter": "python",
   "pygments_lexer": "ipython2",
   "version": "2.7.6"
  }
 },
 "nbformat": 4,
 "nbformat_minor": 5
}
