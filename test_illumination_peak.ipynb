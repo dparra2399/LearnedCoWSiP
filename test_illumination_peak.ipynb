{
 "cells": [
  {
   "cell_type": "code",
   "execution_count": 1,
   "metadata": {},
   "outputs": [],
   "source": [
    "import numpy as np\n",
    "\n",
    "from models.CM1DLayers import IlluminationPeakLayer, ZNCCLayer, IFFTReconLayer\n",
    "from dataset.dataset import SampleLabels\n",
    "from utils.torch_utils import *\n",
    "from felipe_utils.research_utils.signalproc_ops import gaussian_pulse\n",
    "\n",
    "import matplotlib.pyplot as plt\n",
    "import matplotlib\n",
    "import yaml"
   ]
  },
  {
   "cell_type": "code",
   "execution_count": 2,
   "metadata": {},
   "outputs": [],
   "source": [
    "rep_freq = 5 * 1e6\n",
    "rep_tau = 1. / rep_freq\n",
    "sigma = 10\n",
    "\n",
    "peaks = torch.linspace(30, 30, 10)\n",
    "ambients = torch.linspace(5, 5, 10)\n",
    "\n",
    "n_tbins = 200\n",
    "k = 4"
   ]
  },
  {
   "cell_type": "code",
   "execution_count": 3,
   "metadata": {},
   "outputs": [
    {
     "name": "stdout",
     "output_type": "stream",
     "text": [
      "time bin resolution 150.000 mm\n"
     ]
    }
   ],
   "source": [
    "tbin_res = rep_tau / n_tbins\n",
    "tbin_res_depth = (3e8 * tbin_res) / 2.\n",
    "\n",
    "print(f'time bin resolution {tbin_res_depth * 1000:.3f} mm')"
   ]
  },
  {
   "cell_type": "code",
   "execution_count": 4,
   "metadata": {},
   "outputs": [],
   "source": [
    "inits = ['TruncatedFourier', \n",
    "         'experiments/illum_peak_models/version_1/checkpoints/coded_model.ckpt']"
   ]
  },
  {
   "cell_type": "code",
   "execution_count": 5,
   "metadata": {},
   "outputs": [],
   "source": [
    "sample_data = SampleLabels(n_tbins, sources=peaks, sbrs=ambients, num_samples=1024)\n",
    "samples = sample_data.labels\n",
    "depths = torch.tensor([sample[0] for sample in sample_data.labels])\n",
    "peak_counts = torch.tensor([sample[1] for sample in sample_data.labels])\n",
    "ambeints = torch.tensor([sample[2] for sample in sample_data.labels])\n",
    "\n",
    "gt_depths = bin2depth(depths, num_bins=n_tbins, tau=rep_tau)"
   ]
  },
  {
   "cell_type": "code",
   "execution_count": null,
   "metadata": {},
   "outputs": [
    {
     "name": "stdout",
     "output_type": "stream",
     "text": [
      "hirf is NONE\n",
      "t_domain is None\n",
      "Fourier coding K=4\n"
     ]
    }
   ],
   "source": [
    "fig, axs = plt.subplots(len(inits), 3, figsize=(12, 6))\n",
    "counter = 0\n",
    "names = []\n",
    "for init in inits:\n",
    "    if init.endswith('.ckpt'): \n",
    "        get_from_model = True\n",
    "        with open(os.path.join('experiments/illum_peak_models', init.split('/')[-3], 'hparams.yaml'), 'r') as f:\n",
    "            hparams = yaml.load(f, Loader=yaml.FullLoader)\n",
    "            n_tbins = hparams['n_tbins']\n",
    "            k = hparams['k']\n",
    "        name = init.split('/')[-3]\n",
    "    else: \n",
    "        get_from_model = False\n",
    "        k = 4\n",
    "        n_tbins = 200\n",
    "        name = init\n",
    "\n",
    "    model = IlluminationPeakLayer(k=k, n_tbins=n_tbins, init=init, sigma=sigma, get_from_model=get_from_model)\n",
    "\n",
    "    zncc_layer = ZNCCLayer()\n",
    "    ifft_layer = IFFTReconLayer(n_tbins)\n",
    "\n",
    "    c_vals = model(depths, peak_counts, ambeints)\n",
    "\n",
    "    if init.endswith('Fourier'):\n",
    "        pred_depths = ifft_layer(c_vals)\n",
    "    else:\n",
    "        pred_depths = zncc_layer(c_vals, model.cmat1D.weight.data.detach().clone())\n",
    "\n",
    "    pred_depths = bin2depth(pred_depths, num_bins=n_tbins, tau=rep_tau)\n",
    "    \n",
    "    loss = torch.mean(torch.abs(pred_depths.squeeze() - gt_depths.squeeze()))\n",
    "    #loss = criterion_RMSE(pred_depths, gt_depths)\n",
    "\n",
    "    print(f'MAE {init.split('/')[-1].split('.')[0]}: {loss * 1000:.3f} mm ')\n",
    "    names.append(name)\n",
    "    cmat = model.cmat1D.weight\n",
    "    cmat = np.transpose(cmat.detach().numpy().squeeze())\n",
    "\n",
    "    #illum = model.irf_layer(model.illumination.view(1, n_tbins)).view(n_tbins, 1).numpy().squeeze()\n",
    "    #illum[illum < 0] = 0\n",
    "    illum = model.illumination.numpy().squeeze()\n",
    "    axs[counter][0].plot(illum)\n",
    "    axs[counter][0].set_ylabel(name)\n",
    "    axs[counter][1].plot(cmat)\n",
    "    \n",
    "    #axs[counter][1].set_title(init.split('/')[-1].split('.')[0])\n",
    "\n",
    "    axs[0][2].bar(counter, loss, label=f'{loss * 1000:.2f}mm')\n",
    "    axs[0][2].set_title('MAE (Lower Better)')\n",
    "    axs[0][2].set_ylabel('MAE (mm)')\n",
    "\n",
    "\n",
    "    axs[0][1].set_title('Coding Matrix')\n",
    "    axs[0][0].set_title('Illumination')\n",
    "\n",
    "\n",
    "    counter += 1\n",
    "\n",
    "axs[0][2].set_xticks(np.arange(0, len(inits)))\n",
    "axs[0][2].set_xticklabels(names)\n",
    "axs[0][2].legend()\n",
    "\n",
    "pulse_domain = np.arange(0, n_tbins)\n",
    "pulse = gaussian_pulse(pulse_domain, mu=pulse_domain[-1] // 2, width=sigma, circ_shifted=True)\n",
    "\n",
    "axs[1][2].plot(pulse.squeeze())\n",
    "axs[1][2].set_title('IRF')\n",
    "\n",
    "plt.show(block=True)\n"
   ]
  },
  {
   "cell_type": "code",
   "execution_count": null,
   "metadata": {},
   "outputs": [],
   "source": []
  }
 ],
 "metadata": {
  "kernelspec": {
   "display_name": "learnedcowsip",
   "language": "python",
   "name": "python3"
  },
  "language_info": {
   "codemirror_mode": {
    "name": "ipython",
    "version": 3
   },
   "file_extension": ".py",
   "mimetype": "text/x-python",
   "name": "python",
   "nbconvert_exporter": "python",
   "pygments_lexer": "ipython3",
   "version": "3.12.8"
  }
 },
 "nbformat": 4,
 "nbformat_minor": 2
}
